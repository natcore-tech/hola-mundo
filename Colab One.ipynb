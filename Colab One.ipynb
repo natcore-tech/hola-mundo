{
  "nbformat": 4,
  "nbformat_minor": 0,
  "metadata": {
    "colab": {
      "provenance": [],
      "authorship_tag": "ABX9TyPxlmgt6m8wdXXLIKsfYQK1",
      "include_colab_link": true
    },
    "kernelspec": {
      "name": "python3",
      "display_name": "Python 3"
    },
    "language_info": {
      "name": "python"
    }
  },
  "cells": [
    {
      "cell_type": "markdown",
      "metadata": {
        "id": "view-in-github",
        "colab_type": "text"
      },
      "source": [
        "<a href=\"https://colab.research.google.com/github/natcore-tech/hola-mundo/blob/main/Colab%20One.ipynb\" target=\"_parent\"><img src=\"https://colab.research.google.com/assets/colab-badge.svg\" alt=\"Open In Colab\"/></a>"
      ]
    },
    {
      "cell_type": "markdown",
      "source": [
        "Hola que tal, espero y todos se encuentren bien\n",
        "\n",
        "A continuación voy a presentar una recopilación de los códigos que hemos ido realizando en clase\n",
        "\n",
        "Despues de todo estoy solo en esto, asi que subire código acompañado de su respectiva descripción y mi estado de ánimo actual\n",
        "\n",
        "Quizas asi recupere un poco la confianza que solia tener en mi"
      ],
      "metadata": {
        "id": "40MLQfy1A1uX"
      }
    },
    {
      "cell_type": "code",
      "source": [
        "numero=[1,2,3,4,5,6,7,8,9]\n",
        "\n",
        "for numero in numero:\n",
        "    print(numero)\n",
        "\n",
        "#De los primeros códigos que hicimos\n",
        "#Se imprime los numeros guardados dentro de una lista uno por uno"
      ],
      "metadata": {
        "colab": {
          "base_uri": "https://localhost:8080/"
        },
        "id": "AjZKSVdDA5iT",
        "outputId": "4e77e8eb-5fea-4c3d-b437-02ec9138749c"
      },
      "execution_count": 1,
      "outputs": [
        {
          "output_type": "stream",
          "name": "stdout",
          "text": [
            "1\n",
            "2\n",
            "3\n",
            "4\n",
            "5\n",
            "6\n",
            "7\n",
            "8\n",
            "9\n"
          ]
        }
      ]
    },
    {
      "cell_type": "markdown",
      "source": [
        "La verdad no creo poder escribir estos codigos sin dar una mirada antes a mis codigos guardados, es triste\n",
        "\n",
        "Aun asi quiero esforzarme lo mas que pueda, aunque me cueste, debo mejorar\n",
        "\n",
        "Quisiera un apoyo extra"
      ],
      "metadata": {
        "id": "D-TPG3BBCaj9"
      }
    },
    {
      "cell_type": "code",
      "source": [
        "numero=int(input(\"Ingrese un numero: \"))\n",
        "if numero %2 ==0:\n",
        "    print(f\"El numero {numero} es par\")\n",
        "else:\n",
        "    print(f\"El numero {numero} es impar\")\n",
        "\n",
        "suma=0\n",
        "for i in range(10):\n",
        "    x=int(input(f\"Ingrese el numero {i+1}: \"))\n",
        "    suma+=x\n",
        "\n",
        "#De los primeros códigos que hicimos\n",
        "#Usuario ingresa un valor, se verifica si es par o impar y entonces se imprime el resultado\n",
        "#Contador inicia en 0 y usuario ingresa 10 valores"
      ],
      "metadata": {
        "colab": {
          "base_uri": "https://localhost:8080/"
        },
        "id": "da7_51LnCZqg",
        "outputId": "539bf0dc-6245-461d-fb25-69eae72e4372"
      },
      "execution_count": 2,
      "outputs": [
        {
          "name": "stdout",
          "output_type": "stream",
          "text": [
            "Ingrese un numero: 2\n",
            "El numero 2 es par\n",
            "Ingrese el numero 1: 4\n",
            "Ingrese el numero 2: 7\n",
            "Ingrese el numero 3: 3\n",
            "Ingrese el numero 4: 7\n",
            "Ingrese el numero 5: 2\n",
            "Ingrese el numero 6: 8\n",
            "Ingrese el numero 7: 3\n",
            "Ingrese el numero 8: 8\n",
            "Ingrese el numero 9: 2\n",
            "Ingrese el numero 10: 8\n"
          ]
        }
      ]
    },
    {
      "cell_type": "markdown",
      "source": [
        "A partir de aqui dejo de enumerarlos y en su lugar les pongo un nombre\n",
        "\n",
        "Quiero aprender mucho mas, ser el mejor hasta donde se me permita, pero es tan frustrante sentir que no logro avanzar en mi aprendizaje, a veces pienso que necesito ayuda sin embargo, quiero hacerlo por mi cuenta"
      ],
      "metadata": {
        "id": "a9R9RqeDD1M-"
      }
    },
    {
      "cell_type": "code",
      "source": [
        "#Programa 5 funciones\n",
        "#Verifica numero es par o impar\n",
        "#Saludar a una persona\n",
        "#Mayor de dos numeros\n",
        "#Cantidad de vocales en una palabra\n",
        "#grados celsius a fahrenheit\n",
        "\n",
        "print(\"Bienvenido a este programa que ni entiendo\")\n",
        "print(\"1. Numero es par o impar\")\n",
        "print(\"2. Saludar a una persona\")\n",
        "print(\"3. Mayor de dos numeros\")\n",
        "print(\"4. Cantidad de vocales\")\n",
        "print(\"5. Grados celsius a farenheit\")\n",
        "entrada=input(\"Escoge una opcion: \")\n",
        "if entrada is 1:\n",
        "    def mayor(a,b):\n",
        "        a=int(input(\"Por favor ingresa el primer numero: \"))\n",
        "        b=int(input(\"Por favor ingresa el segundo numero: \"))\n",
        "        if a>b:\n",
        "            print(f\"El numero {a} es mayor que {b}\")\n",
        "        elif a<b:\n",
        "            print(f\"El numero {b} es mayor que {a}\")\n",
        "\n",
        "#No termine este codigo creo que deberia intentarlo en un futuro, espero lograrlo\n",
        "\n",
        "#Enserio no hay nadie que me de animos? No entiendo de donde viene esa necesidad"
      ],
      "metadata": {
        "id": "4vW65UjsEg9j"
      },
      "execution_count": null,
      "outputs": []
    },
    {
      "cell_type": "markdown",
      "source": [
        "Hasta aqui llegaré el dia de hoy 09/12/2024 10:45 Terminé"
      ],
      "metadata": {
        "id": "Xilc7xCpFQsZ"
      }
    },
    {
      "cell_type": "code",
      "source": [
        "import random\n",
        "\n",
        "def obtener():\n",
        "    valr=random.randint(1,5)\n",
        "    if valr==1:\n",
        "        print(\"Dia soleado\")\n",
        "    elif valr==2:\n",
        "        print(\"Dia nublado\")\n",
        "    elif valr==3:\n",
        "        print(\"Mejor nos salgas\")\n",
        "    elif valr==4:\n",
        "        print(\"Esta lloviendo\")\n",
        "    elif valr==5:\n",
        "        print(\"No se no veo\")\n",
        "\n",
        "#Se genera un numero random entero del 1 al 5 y se imprime un \"pronostico del clima\""
      ],
      "metadata": {
        "id": "scuUUI_gFruW"
      },
      "execution_count": null,
      "outputs": []
    }
  ]
}